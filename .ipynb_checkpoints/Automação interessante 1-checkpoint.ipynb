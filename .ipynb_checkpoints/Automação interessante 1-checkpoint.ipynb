{
 "cells": [
  {
   "cell_type": "markdown",
   "id": "916675f5",
   "metadata": {},
   "source": [
    "Projeto de automação Rick Roll básico - testando o selenium"
   ]
  },
  {
   "cell_type": "code",
   "execution_count": null,
   "id": "2dbc23b5",
   "metadata": {},
   "outputs": [
    {
     "name": "stderr",
     "output_type": "stream",
     "text": [
      "<ipython-input-2-74646a48b490>:10: DeprecationWarning: find_element_by_* commands are deprecated. Please use find_element() instead\n",
      "  searchbar = navegador.find_element_by_xpath('/html/body/ytd-app/div/div/ytd-masthead/div[3]/div[2]/ytd-searchbox/form/div/div[1]/input')\n"
     ]
    }
   ],
   "source": [
    "from selenium import webdriver\n",
    "from selenium.webdriver.common.keys import Keys\n",
    "from selenium.webdriver.support.ui import WebDriverWait\n",
    "from selenium.webdriver.common.by import By\n",
    "from selenium.webdriver.support import expected_conditions as EC\n",
    "import time\n",
    "\n",
    "navegador = webdriver.Chrome()\n",
    "navegador.get('https://www.youtube.com/')\n",
    "searchbar = navegador.find_element_by_xpath('/html/body/ytd-app/div/div/ytd-masthead/div[3]/div[2]/ytd-searchbox/form/div/div[1]/input')\n",
    "searchbar.send_keys('rick roll song')\n",
    "time.sleep(5)\n",
    "searchbar.send_keys(Keys.ENTER)\n",
    "navegador.find_element_by_xpath('//*[@id=\"video-title\"]').click()\n",
    "#enjoy\n",
    "\n"
   ]
  },
  {
   "cell_type": "code",
   "execution_count": null,
   "id": "477c9be0",
   "metadata": {},
   "outputs": [],
   "source": []
  }
 ],
 "metadata": {
  "kernelspec": {
   "display_name": "Python 3",
   "language": "python",
   "name": "python3"
  },
  "language_info": {
   "codemirror_mode": {
    "name": "ipython",
    "version": 3
   },
   "file_extension": ".py",
   "mimetype": "text/x-python",
   "name": "python",
   "nbconvert_exporter": "python",
   "pygments_lexer": "ipython3",
   "version": "3.8.8"
  }
 },
 "nbformat": 4,
 "nbformat_minor": 5
}
